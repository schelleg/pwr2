{
 "cells": [
  {
   "cell_type": "code",
   "execution_count": 4,
   "id": "26253230-5e79-475a-b74c-14f9d1d45ac3",
   "metadata": {},
   "outputs": [],
   "source": [
    "from pynqremote import Overlay\n",
    "from pynqremote import MMIO\n",
    "from time import sleep"
   ]
  },
  {
   "cell_type": "code",
   "execution_count": 6,
   "id": "74dc6a68-6055-4eb8-9dd0-f52cf7081193",
   "metadata": {},
   "outputs": [
    {
     "name": "stdout",
     "output_type": "stream",
     "text": [
      "[CLIENT] File exists and is readable\n",
      "[SERVER] Data received and verified.\n",
      "[SERVER] 34437356 bytes received\n"
     ]
    }
   ],
   "source": [
    "addr = \"192.168.3.1\"\n",
    "ol = Overlay('base.bit', addr)"
   ]
  },
  {
   "cell_type": "code",
   "execution_count": 7,
   "id": "889a166d-a5c0-446f-9819-0051c4613dbe",
   "metadata": {},
   "outputs": [],
   "source": [
    "base_addr = 0x80040000\n",
    "leds = MMIO(ol.channel, base_addr)"
   ]
  },
  {
   "cell_type": "code",
   "execution_count": 8,
   "id": "97fe2c3a-49c6-4897-9620-2f89ec11f1e2",
   "metadata": {},
   "outputs": [],
   "source": [
    "leds.write(0, 0b1111)"
   ]
  },
  {
   "cell_type": "code",
   "execution_count": 9,
   "id": "a815b209-e99f-412b-988c-40657d8ed1fd",
   "metadata": {},
   "outputs": [],
   "source": [
    "leds.write(0, 0b0000)"
   ]
  }
 ],
 "metadata": {
  "kernelspec": {
   "display_name": "Python 3 (ipykernel)",
   "language": "python",
   "name": "python3"
  },
  "language_info": {
   "codemirror_mode": {
    "name": "ipython",
    "version": 3
   },
   "file_extension": ".py",
   "mimetype": "text/x-python",
   "name": "python",
   "nbconvert_exporter": "python",
   "pygments_lexer": "ipython3",
   "version": "3.11.1"
  }
 },
 "nbformat": 4,
 "nbformat_minor": 5
}
